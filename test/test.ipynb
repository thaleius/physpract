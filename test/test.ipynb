{
 "cells": [
  {
   "cell_type": "code",
   "execution_count": 1,
   "metadata": {},
   "outputs": [],
   "source": [
    "import os\n",
    "import sys\n",
    "sys.path.insert(0, os.path.abspath(os.path.join('..')))\n",
    "\n",
    "from src.uncertainties import Value\n",
    "from src.mmath import *\n",
    "\n",
    "from sympy.physics.units import *"
   ]
  },
  {
   "cell_type": "code",
   "execution_count": 2,
   "metadata": {},
   "outputs": [
    {
     "name": "stdout",
     "output_type": "stream",
     "text": [
      "3.00 ± 0.23\n",
      "3.00 0.23\n",
      "3.00 0.23\n",
      "3.0 0.223606797749979\n",
      "3.0 0.223606797749979\n"
     ]
    }
   ],
   "source": [
    "from src.uncertainties import Value\n",
    "\n",
    "a = Value(1, 0.1)\n",
    "b = Value(2, 0.2)\n",
    "\n",
    "c = a + b\n",
    "\n",
    "# Print the value\n",
    "print(c)\n",
    "# Output: 3.00 ± 0.23\n",
    "\n",
    "# Print the value and the uncertainty\n",
    "print(c.value, c.uncertainty)\n",
    "# or\n",
    "print(c.v, c.u)\n",
    "# Output: 3.00 0.23\n",
    "\n",
    "# Print the not rounded value and the uncertainty\n",
    "print(c.value_not_rounded, c.uncertainty_not_rounded)\n",
    "# or\n",
    "print(c.vnr, c.unr)\n",
    "# Output: 3.0 0.223606797749979"
   ]
  },
  {
   "cell_type": "code",
   "execution_count": 3,
   "metadata": {},
   "outputs": [
    {
     "name": "stdout",
     "output_type": "stream",
     "text": [
      "a + b = 3.00 ± 0.23\n"
     ]
    }
   ],
   "source": [
    "from src.uncertainties import Value\n",
    "\n",
    "a = Value(1, 0.1, \"a\")\n",
    "b = Value(2, 0.2, \"b\")\n",
    "\n",
    "c = a + b\n",
    "print(c)\n",
    "# Output: a + b = 3.00 ± 0.23"
   ]
  },
  {
   "cell_type": "code",
   "execution_count": 4,
   "metadata": {},
   "outputs": [
    {
     "name": "stdout",
     "output_type": "stream",
     "text": [
      "a/b = 0.50 ± 0.08 meter/second\n"
     ]
    }
   ],
   "source": [
    "from src.uncertainties import Value\n",
    "from sympy.physics.units import meter, second\n",
    "\n",
    "a = Value(1, 0.1, \"a\", meter)\n",
    "b = Value(2, 0.2, \"b\", second)\n",
    "\n",
    "c = a/b\n",
    "\n",
    "# Print the value\n",
    "print(c)\n",
    "# Output: a/b = 0.50 ± 0.08 meter/second"
   ]
  },
  {
   "cell_type": "code",
   "execution_count": 5,
   "metadata": {},
   "outputs": [
    {
     "name": "stdout",
     "output_type": "stream",
     "text": [
      "\\SI{0.50(8)}{\\meter\\per\\second}\n",
      "\\frac{a}{b}=\\SI{0.50(8)}{\\meter\\per\\second}\n"
     ]
    }
   ],
   "source": [
    "from src.uncertainties import Value\n",
    "from sympy.physics.units import meter, second\n",
    "\n",
    "a = Value(1, 0.1, \"a\", meter)\n",
    "b = Value(2, 0.2, \"b\", second)\n",
    "\n",
    "c = a/b\n",
    "\n",
    "# Print the LaTeX output\n",
    "print(c.latex())\n",
    "# Output: \\SI{0.50(8)}{\\frac{\\text{m}}{\\text{s}}}\n",
    "\n",
    "# Print the LaTeX output with equation\n",
    "print(c.latex(equation=True))\n",
    "# Output: \\frac{a}{b} = \\SI{0.50(8)}{\\frac{\\text{m}}{\\text{s}}}"
   ]
  },
  {
   "cell_type": "code",
   "execution_count": 6,
   "metadata": {},
   "outputs": [
    {
     "name": "stdout",
     "output_type": "stream",
     "text": [
      "a/b\n",
      "\\frac{a}{b}=\\frac{\\SI{1.0(1)}{\\meter}}{\\SI{2.0(2)}{\\second}}=\\SI{0.50(8)}{\\meter\\per\\second}\n",
      "sqrt(\\Delta a**2/b**2 + \\Delta b**2*a**2/b**4)\n",
      "\\Delta\\left(\\frac{a}{b}\\right)=\\sqrt{\\frac{\\Delta a^{2}}{b^{2}} + \\frac{\\Delta b^{2} a^{2}}{b^{4}}}=\\sqrt{\\frac{\\left(\\SI{0.1}{\\meter}\\right)^{2}}{\\left(\\SI{2.0}{\\second}\\right)^{2}} + \\frac{\\left(\\SI{0.2}{\\second}\\right)^{2} \\left(\\SI{1.0}{\\meter}\\right)^{2}}{\\left(\\SI{2.0}{\\second}\\right)^{4}}}=\\SI{0.08}{\\meter\\per\\second}\n"
     ]
    }
   ],
   "source": [
    "from src.uncertainties import Value\n",
    "from sympy.physics.units import meter, second\n",
    "\n",
    "a = Value(1, 0.1, \"a\", meter)\n",
    "b = Value(2, 0.2, \"b\", second)\n",
    "\n",
    "c = a/b\n",
    "\n",
    "# Print the equation of the value\n",
    "print(c.value.get_equation())\n",
    "# Output: a/b\n",
    "\n",
    "# Print the LaTeX equation of the value\n",
    "print(c.value.get_equation().latex())\n",
    "# Output: \\frac{a}{b}=\\frac{\\SI{1.0(0.1)}{\\text{m}}}{\\SI{2.0(0.2)}{\\text{s}}}\n",
    "\n",
    "# Print the equation of the uncertainty\n",
    "print(c.uncertainty.get_equation())\n",
    "# Output: sqrt(\\Delta a**2/b**2 + \\Delta b**2*a**2/b**4)\n",
    "\n",
    "# Print the LaTeX equation of the uncertainty\n",
    "print(c.uncertainty.get_equation().latex())\n",
    "# Output: \\Delta\\left(\\frac{a}{b}\\right)=\\sqrt{\\frac{\\Delta a^{2}}{b^{2}} + \\frac{\\Delta b^{2} a^{2}}{b^{4}}}=\\sqrt{\\frac{\\left(\\SI{0.1}{\\text{m}}\\right)^{2}}{\\left(\\SI{2.0}{\\text{s}}\\right)^{2}} + \\frac{\\left(\\SI{0.2}{\\text{s}}\\right)^{2} \\left(\\SI{1.0}{\\text{m}}\\right)^{2}}{\\left(\\SI{2.0}{\\text{s}}\\right)^{4}}}"
   ]
  }
 ],
 "metadata": {
  "kernelspec": {
   "display_name": "Python 3",
   "language": "python",
   "name": "python3"
  },
  "language_info": {
   "codemirror_mode": {
    "name": "ipython",
    "version": 3
   },
   "file_extension": ".py",
   "mimetype": "text/x-python",
   "name": "python",
   "nbconvert_exporter": "python",
   "pygments_lexer": "ipython3",
   "version": "3.10.11"
  }
 },
 "nbformat": 4,
 "nbformat_minor": 2
}
